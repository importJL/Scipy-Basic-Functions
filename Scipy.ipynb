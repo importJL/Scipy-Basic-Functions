{
 "cells": [
  {
   "cell_type": "code",
   "execution_count": 1,
   "metadata": {},
   "outputs": [],
   "source": [
    "from scipy import special, linalg, fftpack, optimize, integrate\n",
    "import numpy as np\n",
    "import matplotlib.pyplot as plt\n",
    "\n",
    "%matplotlib inline"
   ]
  },
  {
   "cell_type": "markdown",
   "metadata": {},
   "source": [
    "#### 1) Basic mathematical functions\n",
    "* cubic root - $\\sqrt[3]{x}$"
   ]
  },
  {
   "cell_type": "code",
   "execution_count": 2,
   "metadata": {},
   "outputs": [
    {
     "name": "stdout",
     "output_type": "stream",
     "text": [
      "[3. 5.]\n"
     ]
    }
   ],
   "source": [
    "print(special.cbrt([27, 125]))"
   ]
  },
  {
   "cell_type": "markdown",
   "metadata": {},
   "source": [
    "* exponential 10 - $10^x$"
   ]
  },
  {
   "cell_type": "code",
   "execution_count": 3,
   "metadata": {},
   "outputs": [
    {
     "name": "stdout",
     "output_type": "stream",
     "text": [
      "[1.e+03 1.e+10]\n"
     ]
    }
   ],
   "source": [
    "print(special.exp10([3, 10]))"
   ]
  },
  {
   "cell_type": "markdown",
   "metadata": {},
   "source": [
    "* permutation - \n",
    "$nPr = \\frac{n!}{(n-r)!}$"
   ]
  },
  {
   "cell_type": "code",
   "execution_count": 4,
   "metadata": {},
   "outputs": [
    {
     "name": "stdout",
     "output_type": "stream",
     "text": [
      "12.0\n"
     ]
    }
   ],
   "source": [
    "print(special.perm(4,2))"
   ]
  },
  {
   "cell_type": "markdown",
   "metadata": {},
   "source": [
    "* combination - \n",
    "$\\left(\\!\n",
    "    \\begin{array}{c}\n",
    "        n \\\\ \n",
    "        r\n",
    "    \\end{array}\n",
    "\\!\\right) = \\frac{n!}{r!(n-r)!}$"
   ]
  },
  {
   "cell_type": "code",
   "execution_count": 5,
   "metadata": {},
   "outputs": [
    {
     "name": "stdout",
     "output_type": "stream",
     "text": [
      "210.0\n"
     ]
    }
   ],
   "source": [
    "print(special.comb(10, 4))"
   ]
  },
  {
   "cell_type": "markdown",
   "metadata": {},
   "source": [
    "#### 2) Linear algebra"
   ]
  },
  {
   "cell_type": "code",
   "execution_count": 6,
   "metadata": {},
   "outputs": [],
   "source": [
    "two_d_array = np.array([[10, 26],\n",
    "                        [4, 90]])"
   ]
  },
  {
   "cell_type": "markdown",
   "metadata": {},
   "source": [
    "* determinant"
   ]
  },
  {
   "cell_type": "code",
   "execution_count": 7,
   "metadata": {},
   "outputs": [
    {
     "name": "stdout",
     "output_type": "stream",
     "text": [
      "796\n"
     ]
    }
   ],
   "source": [
    "print(round(linalg.det(two_d_array)))"
   ]
  },
  {
   "cell_type": "markdown",
   "metadata": {},
   "source": [
    "* inverse"
   ]
  },
  {
   "cell_type": "code",
   "execution_count": 8,
   "metadata": {},
   "outputs": [
    {
     "name": "stdout",
     "output_type": "stream",
     "text": [
      "[[ 0.11306533 -0.03266332]\n",
      " [-0.00502513  0.01256281]]\n"
     ]
    }
   ],
   "source": [
    "print(linalg.inv(two_d_array))"
   ]
  },
  {
   "cell_type": "markdown",
   "metadata": {},
   "source": [
    "* eigenvalue, eigenvector"
   ]
  },
  {
   "cell_type": "code",
   "execution_count": 9,
   "metadata": {},
   "outputs": [],
   "source": [
    "i = 50\n",
    "j = 100\n",
    "sq_array = np.random.normal(4, 2.5, size=(i,i))"
   ]
  },
  {
   "cell_type": "code",
   "execution_count": 10,
   "metadata": {},
   "outputs": [
    {
     "name": "stdout",
     "output_type": "stream",
     "text": [
      "Top 5 eigenvalues (shape: (5,)):  [201.79497428+0.j          16.19125038+0.j\n",
      "  14.44384491+2.94217712j  14.44384491-2.94217712j\n",
      "  14.13761829+5.91650818j]\n",
      "\n",
      "Top eigenvector (shape: (1, 50)):  [[ 0.32724729-0.j          0.32724729+0.j          0.22085645+0.12986793j\n",
      "   0.22085645-0.12986793j  0.14509106+0.03425713j  0.14509106-0.03425713j\n",
      "   0.13971388+0.17735608j  0.13971388-0.17735608j  0.1394413 +0.j\n",
      "   0.07258386+0.23562664j  0.07258386-0.23562664j  0.06945185+0.j\n",
      "   0.05994411+0.1124069j   0.05994411-0.1124069j   0.05584187+0.01906408j\n",
      "   0.05584187-0.01906408j  0.05341109+0.01690066j  0.05341109-0.01690066j\n",
      "   0.03853185+0.01866605j  0.03853185-0.01866605j  0.01290928+0.13660699j\n",
      "   0.01290928-0.13660699j -0.00568221+0.04792252j -0.00568221-0.04792252j\n",
      "  -0.00626277+0.03762138j -0.00626277-0.03762138j -0.0115422 +0.25708038j\n",
      "  -0.0115422 -0.25708038j -0.01372298+0.15709628j -0.01372298-0.15709628j\n",
      "  -0.01984887+0.11161936j -0.01984887-0.11161936j -0.04967084+0.10684856j\n",
      "  -0.04967084-0.10684856j -0.05158144+0.10501833j -0.05158144-0.10501833j\n",
      "  -0.05342181+0.j         -0.05902255+0.02690551j -0.05902255-0.02690551j\n",
      "  -0.06906333+0.j         -0.06976604+0.17669977j -0.06976604-0.17669977j\n",
      "  -0.11062549+0.05580651j -0.11062549-0.05580651j -0.11064365+0.02475714j\n",
      "  -0.11064365-0.02475714j -0.19630336+0.03986514j -0.19630336-0.03986514j\n",
      "  -0.26254979+0.09977545j -0.26254979-0.09977545j]]\n"
     ]
    }
   ],
   "source": [
    "eg_val, eg_vect = linalg.eig(sq_array)\n",
    "\n",
    "print('Top 5 eigenvalues (shape: {}): '.format(eg_val[:5].shape), -np.sort(-eg_val)[:5])\n",
    "print('\\nTop eigenvector (shape: {}): '.format(eg_vect[:1].shape), -np.sort(-eg_vect)[:1])"
   ]
  },
  {
   "cell_type": "markdown",
   "metadata": {},
   "source": [
    "* singular value decomposition"
   ]
  },
  {
   "cell_type": "code",
   "execution_count": 11,
   "metadata": {},
   "outputs": [],
   "source": [
    "nd_array = np.random.normal(1, 2, size=(j, i))\n",
    "\n",
    "U, s, Vh = linalg.svd(nd_array, full_matrices=False)"
   ]
  },
  {
   "cell_type": "code",
   "execution_count": 12,
   "metadata": {},
   "outputs": [
    {
     "name": "stdout",
     "output_type": "stream",
     "text": [
      "Left unit matrix (U) (shape: (100, 50)):  [[-0.1369247   0.08191798 -0.03179776 ...  0.37663243  0.10248527\n",
      "   0.01874659]\n",
      " [-0.06680813  0.09305332  0.00767735 ...  0.17983513  0.0600342\n",
      "   0.17683892]\n",
      " [-0.11642731  0.11830469  0.05105992 ...  0.01600177 -0.17278546\n",
      "   0.10182107]\n",
      " ...\n",
      " [-0.12547749  0.106874    0.106636   ...  0.01045828 -0.10576351\n",
      "  -0.05947833]\n",
      " [-0.10171238 -0.12411661  0.19594712 ... -0.08034878  0.04920149\n",
      "   0.04035497]\n",
      " [-0.10173274  0.10589197  0.05737    ... -0.08415939  0.13298357\n",
      "   0.01003391]]\n",
      "\n",
      "Right unit matrix (Vh) (shape: (50, 50)):  [[-0.15248319 -0.15384868 -0.11549399 ... -0.17074503 -0.15405711\n",
      "  -0.18022103]\n",
      " [-0.03501445  0.15888475 -0.04725377 ...  0.14945902  0.03420258\n",
      "   0.16242339]\n",
      " [ 0.29838267  0.03907593 -0.03894522 ... -0.07415205 -0.03762712\n",
      "   0.08303049]\n",
      " ...\n",
      " [-0.18639968  0.16372649 -0.06717715 ...  0.05197313 -0.00918911\n",
      "  -0.07580834]\n",
      " [ 0.02237302 -0.08685244  0.00557222 ...  0.03476282  0.21906345\n",
      "  -0.02168361]\n",
      " [-0.13739309 -0.04904335  0.01629856 ... -0.03276784  0.33111743\n",
      "   0.0453266 ]]\n",
      "\n",
      "Singular vector (s) (shape: (50,)):  [75.73862853 32.39027579 30.4517345  29.58647338 29.16789367 28.36412701\n",
      " 27.67622271 27.3023477  26.99857585 26.39625764 25.71217762 25.00723507\n",
      " 24.6559555  23.76916125 23.44157222 22.70533299 22.62519812 22.34374473\n",
      " 21.79506685 21.16547019 20.71406413 19.91972811 19.4155989  18.98842163\n",
      " 18.74813334 18.26523396 17.65008555 17.26673829 17.08928478 16.44938146\n",
      " 15.49822317 15.38441623 14.90893156 13.79596736 13.69053742 13.58226895\n",
      " 12.78207649 12.656039   12.34672141 11.55547183 11.09941751 10.44442914\n",
      " 10.17634287  9.81479765  9.514229    8.78080641  8.25115249  7.81461675\n",
      "  7.09773401  5.97730743]\n",
      "\n",
      "Rank:  50\n"
     ]
    }
   ],
   "source": [
    "print('Left unit matrix (U) (shape: {}): '.format(U.shape), U)\n",
    "print('\\nRight unit matrix (Vh) (shape: {}): '.format(Vh.shape), Vh)\n",
    "print('\\nSingular vector (s) (shape: {}): '.format(s.shape), s)\n",
    "print('\\nRank: ', np.linalg.matrix_rank(nd_array))"
   ]
  },
  {
   "cell_type": "markdown",
   "metadata": {},
   "source": [
    "#### 3) Fourier Transform"
   ]
  },
  {
   "cell_type": "code",
   "execution_count": 13,
   "metadata": {},
   "outputs": [],
   "source": [
    "# graph variables\n",
    "f = 5\n",
    "rng = 25\n",
    "t = np.linspace(0, 2, 2 * rng, endpoint=False)\n",
    "a = np.sin(t * np.pi) / np.cos(t * np.exp(0.4 * t))\n",
    "\n",
    "A = fftpack.fft(a)\n",
    "fft_freq = fftpack.fftfreq(len(a)) * rng"
   ]
  },
  {
   "cell_type": "code",
   "execution_count": 14,
   "metadata": {},
   "outputs": [
    {
     "data": {
      "image/png": "[encoded data removed]",
      "text/plain": [
       "<Figure size 720x432 with 2 Axes>"
      ]
     },
     "metadata": {
      "needs_background": "light"
     },
     "output_type": "display_data"
    }
   ],
   "source": [
    "fig, axes = plt.subplots(2, 1, figsize=(10,6))\n",
    "fig.tight_layout(pad=5.0)\n",
    "axes[0].plot(t, a)\n",
    "axes[0].set_xlabel('Time (s)')\n",
    "axes[0].set_ylabel('Signal amplitude');\n",
    "axes[0].set_title('Original Function')\n",
    "\n",
    "axes[1].stem(fft_freq, np.abs(A))\n",
    "axes[1].set_xlabel('Frequency (Hz)')\n",
    "axes[1].set_ylabel('Frequency Spectrum Magnitude')\n",
    "axes[1].set_xlim(-rng / 4, rng / 4)\n",
    "axes[1].set_ylim(0, 100)\n",
    "axes[1].set_title('Frequency Identification');"
   ]
  },
  {
   "cell_type": "markdown",
   "metadata": {},
   "source": [
    "#### 4) Optimization"
   ]
  },
  {
   "cell_type": "code",
   "execution_count": 15,
   "metadata": {},
   "outputs": [
    {
     "name": "stdout",
     "output_type": "stream",
     "text": [
      "Optimization terminated successfully.\n",
      "         Current function value: -1.350024\n",
      "         Iterations: 4\n",
      "         Function evaluations: 12\n",
      "         Gradient evaluations: 6\n"
     ]
    },
    {
     "data": {
      "text/plain": [
       "Text([3.85142479], [-1.30002352], 'Minimum: (2.85, -1.35)')"
      ]
     },
     "execution_count": 15,
     "metadata": {},
     "output_type": "execute_result"
    },
    {
     "data": {
      "image/png": "[encoded data removed]",
      "text/plain": [
       "<Figure size 432x288 with 1 Axes>"
      ]
     },
     "metadata": {
      "needs_background": "light"
     },
     "output_type": "display_data"
    }
   ],
   "source": [
    "def g(x):\n",
    "    return 3*x**2 * np.cos(x) / np.exp(x)\n",
    "\n",
    "xopt = optimize.fmin_bfgs(g, 4)\n",
    "\n",
    "x = np.linspace(0, 20, num=100)\n",
    "plt.plot(x, g(x))\n",
    "plt.annotate('Minimum: ({}, {})'.format(\n",
    "    round(xopt[0],2), round(g(xopt)[0],2)), \n",
    "             xy=(xopt, g(xopt)), \n",
    "             xytext=(xopt + 1, g(xopt) + 0.05))"
   ]
  },
  {
   "cell_type": "markdown",
   "metadata": {},
   "source": [
    "#### 5) Integration\n",
    "* single - $\\int_a^b\\mathrm{x}^4{d}x$"
   ]
  },
  {
   "cell_type": "code",
   "execution_count": 16,
   "metadata": {},
   "outputs": [
    {
     "name": "stdout",
     "output_type": "stream",
     "text": [
      "Integral of f:  48.400000000000006\n",
      "Error margin:  5.373479439185759e-13\n"
     ]
    }
   ],
   "source": [
    "f = lambda x: x**4\n",
    "a = 1\n",
    "b = 3\n",
    "res, err = integrate.quad(f, a, b)\n",
    "print('Integral of f: ', res)\n",
    "print('Error margin: ', err)"
   ]
  },
  {
   "cell_type": "markdown",
   "metadata": {},
   "source": [
    "* double - $\\int_0^{1}\\int_0^{x^2}\\mathrm{\\frac{3x}{y}}{d}x$"
   ]
  },
  {
   "cell_type": "code",
   "execution_count": 17,
   "metadata": {},
   "outputs": [
    {
     "name": "stdout",
     "output_type": "stream",
     "text": [
      "Integral of int_f:  0.375\n",
      "Error margin:  1.654509661733337e-14\n"
     ]
    }
   ],
   "source": [
    "int_f = lambda x, y: 3 * x / y\n",
    "g = lambda x: x**2\n",
    "res, err = integrate.dblquad(int_f, 0, 1, 0, g)\n",
    "print('Integral of int_f: ', res)\n",
    "print('Error margin: ', err)"
   ]
  }
 ],
 "metadata": {
  "kernelspec": {
   "display_name": "Python 3",
   "language": "python",
   "name": "python3"
  },
  "language_info": {
   "codemirror_mode": {
    "name": "ipython",
    "version": 3
   },
   "file_extension": ".py",
   "mimetype": "text/x-python",
   "name": "python",
   "nbconvert_exporter": "python",
   "pygments_lexer": "ipython3",
   "version": "3.9.0"
  }
 },
 "nbformat": 4,
 "nbformat_minor": 4
}
